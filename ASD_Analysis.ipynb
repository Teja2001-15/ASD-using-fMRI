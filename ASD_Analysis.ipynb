{
 "cells": [
  {
   "cell_type": "code",
   "execution_count": 5,
   "metadata": {},
   "outputs": [],
   "source": [
    "import networkx as nx\n",
    "import numpy as np"
   ]
  },
  {
   "cell_type": "code",
   "execution_count": 6,
   "metadata": {},
   "outputs": [],
   "source": [
    "# Get list regions of interest\n",
    "rois = open(\"./data/rois.txt\", \"r\").read().split(\"\\n\")\n",
    "\n",
    "# Get Mean Correlation Matrix for ASD and convert to sparse unweighted network\n",
    "asd_matrix = np.loadtxt(open(\"./data/networks/asd_corr_matrix.csv\", \"rb\"), delimiter=\",\")\n",
    "asd_threshold = np.percentile(asd_matrix, 80)\n",
    "asd_matrix[asd_matrix < asd_threshold] = 0\n",
    "asd_matrix[asd_matrix >= asd_threshold] = 1\n",
    "asd_network = nx.from_numpy_array(asd_matrix)\n",
    "\n",
    "# Get Mean Correlation Matrix for TD and convert to sparse unweighted network\n",
    "td_matrix = np.loadtxt(open(\"./data/networks/td_corr_matrix.csv\", \"rb\"), delimiter=\",\")\n",
    "td_threshold = np.percentile(td_matrix, 80)\n",
    "td_matrix[td_matrix < td_threshold] = 0\n",
    "td_matrix[td_matrix >= td_threshold] = 1\n",
    "td_network = nx.from_numpy_array(td_matrix)"
   ]
  },
  {
   "cell_type": "code",
   "execution_count": 7,
   "metadata": {},
   "outputs": [
    {
     "name": "stdout",
     "output_type": "stream",
     "text": [
      "ASD Density: 0.2057057057057057\n",
      "TD Density: 0.2057057057057057\n",
      "ASD Transitivity: 0.5027027027027027\n",
      "TD Transitivity: 0.5199698568198945\n",
      "ASD Clustering: 0.5198673580252526\n",
      "TD Clustering: 0.5007920086867454\n"
     ]
    }
   ],
   "source": [
    "# Global Measures\n",
    "print(\"ASD Density: \" + str(nx.density(asd_network)))\n",
    "print(\"TD Density: \" + str(nx.density(td_network)))\n",
    "\n",
    "print(\"ASD Transitivity: \" + str(nx.transitivity(asd_network)))\n",
    "print(\"TD Transitivity: \" + str(nx.transitivity(td_network)))\n",
    "\n",
    "print(\"ASD Clustering: \" + str(nx.average_clustering(asd_network)))\n",
    "print(\"TD Clustering: \" + str(nx.average_clustering(td_network)))"
   ]
  },
  {
   "cell_type": "code",
   "execution_count": 8,
   "metadata": {},
   "outputs": [
    {
     "name": "stdout",
     "output_type": "stream",
     "text": [
      "------------Degree--------------\n",
      "Max ASD Node: Left Frontal Pole | Value: 0.5277777777777778\n",
      "Max TD Node: Left Frontal Pole | Value: 0.5555555555555556\n",
      "Max Diff: Left Cingulate Gyrus, posterior division | Value: 0.11111111111111113\n",
      "Min Diff: Left Planum Temporale | Value: -0.08333333333333331\n",
      "------------Closeness--------------\n",
      "Max ASD Node: Left Frontal Pole | Value: 0.6208010335917312\n",
      "Max TD Node: Left Frontal Pole | Value: 0.6355820105820107\n",
      "Max Diff: Left Precuneous Cortex | Value: 0.1009945130315501\n",
      "Min Diff: Left Frontal Medial Cortex | Value: -0.05979938271604934\n",
      "------------Betweenness--------------\n",
      "Max ASD Node: Left Frontal Pole | Value: 0.12795757593376644\n",
      "Max TD Node: Left Frontal Pole | Value: 0.138200727843585\n",
      "Max Diff: Left Superior Parietal Lobule | Value: 0.028295648355172176\n",
      "Min Diff: Left Juxtapositional Lobule Cortex (formerly Supplementary Motor Cortex) | Value: -0.025141569189188258\n"
     ]
    }
   ],
   "source": [
    "# Nodal Measures\n",
    "funcs = [nx.degree_centrality, nx.closeness_centrality, nx.betweenness_centrality]\n",
    "func_names = [\"Degree\", \"Closeness\", \"Betweenness\"]\n",
    "\n",
    "for func, name in zip(funcs, func_names):\n",
    "    print(\"------------\" + name + \"--------------\")\n",
    "    \n",
    "    asd_centrality = func(asd_network)\n",
    "    asd_centrality = np.array(list(asd_centrality.values()))\n",
    "    print(\"Max ASD Node: \" + rois[np.argmax(asd_centrality)] + \" | Value: \" + str(np.max(asd_centrality)))\n",
    "\n",
    "    td_centrality = func(td_network)\n",
    "    td_centrality = np.array(list(td_centrality.values()))\n",
    "    print(\"Max TD Node: \" + rois[np.argmax(td_centrality)] + \" | Value: \" + str(np.max(td_centrality)))\n",
    "\n",
    "    diff = asd_centrality - td_centrality\n",
    "    print(\"Max Diff: \" + rois[np.argmax(diff)] + \" | Value: \" + str(np.max(diff)))\n",
    "    print(\"Min Diff: \" + rois[np.argmin(diff)] + \" | Value: \" + str(np.min(diff)))"
   ]
  },
  {
   "cell_type": "code",
   "execution_count": 320,
   "metadata": {},
   "outputs": [],
   "source": []
  }
 ],
 "metadata": {
  "kernelspec": {
   "display_name": "Python 3 (ipykernel)",
   "language": "python",
   "name": "python3"
  },
  "language_info": {
   "codemirror_mode": {
    "name": "ipython",
    "version": 3
   },
   "file_extension": ".py",
   "mimetype": "text/x-python",
   "name": "python",
   "nbconvert_exporter": "python",
   "pygments_lexer": "ipython3",
   "version": "3.10.9"
  }
 },
 "nbformat": 4,
 "nbformat_minor": 4
}
